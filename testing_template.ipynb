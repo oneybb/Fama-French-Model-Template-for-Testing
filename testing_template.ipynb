{
 "cells": [
  {
   "cell_type": "markdown",
   "metadata": {},
   "source": [
    "The **Fama-French models** are extensions of the **Capital Asset Pricing Model (CAPM)**. They introduce additional factors to explain stock returns more effectively.\n",
    "\n",
    "##   1️. Fama-French 3-Factor Model  \n",
    "\n",
    "The **3-factor model** extends CAPM by adding **size (SMB)** and **value (HML)** factors:\n",
    "\n",
    "$$\n",
    "R_i - R_f = \\alpha + \\beta_m (R_m - R_f) + \\beta_s \\text{SMB} + \\beta_h \\text{HML} + \\epsilon\n",
    "$$\n",
    "\n",
    "### **Explanation of Terms:**\n",
    "- $R_i$ = Return of stock $i$\n",
    "- $R_f$ = Risk-free rate (e.g., 3-month T-Bill)\n",
    "- $R_m$ = Return of the market (e.g., S&P 500)\n",
    "- $\\alpha$ = Stock-specific alpha (excess return not explained by the model)\n",
    "- $\\beta_m$ = Market beta (sensitivity to overall market movements)\n",
    "- **SMB (Small Minus Big)** = Return spread between small-cap and large-cap stocks  \n",
    "- **HML (High Minus Low)** = Return spread between high and low book-to-market (value vs. growth stocks)  \n",
    "- $\\epsilon$ = Residual error term  \n",
    "\n",
    "\n",
    "---\n",
    "\n",
    "##  2️. Fama-French 5-Factor Model \n",
    "\n",
    "The **5-factor model** further improves the explanation of returns by introducing **profitability (RMW)** and **investment (CMA)** factors:\n",
    "\n",
    "$$\n",
    "R_i - R_f = \\alpha + \\beta_m (R_m - R_f) + \\beta_s \\text{SMB} + \\beta_h \\text{HML} + \\beta_r \\text{RMW} + \\beta_c \\text{CMA} + \\epsilon\n",
    "$$\n",
    "\n",
    "### **Additional Factors:**\n",
    "- **RMW (Robust Minus Weak)** = Return spread between high-profitability and low-profitability firms  \n",
    "- **CMA (Conservative Minus Aggressive)** = Return spread between firms with conservative and aggressive investment policies  \n",
    "\n",
    " \n",
    "- The **5-factor model** suggests that the **HML (value factor)** may be redundant because it overlaps with RMW and CMA.\n",
    "\n",
    "---\n",
    "\n",
    "## 3. Fama-French 6-Factor Model \n",
    "\n",
    "The **6-factor model** introduces a **momentum factor (UMD)** to capture the tendency of past winners to keep winning:\n",
    "\n",
    "$$\n",
    "R_i - R_f = \\alpha + \\beta_m (R_m - R_f) + \\beta_s \\text{SMB} + \\beta_h \\text{HML} + \\beta_r \\text{RMW} + \\beta_c \\text{CMA} + \\beta_m \\text{UMD} + \\epsilon\n",
    "$$\n",
    "\n",
    "### **Momentum Factor:**\n",
    "- **UMD (Up Minus Down)** = Return spread between stocks with high past returns (winners) and low past returns (losers)  \n",
    "\n",
    " \n",
    "---\n",
    "\n",
    "## **Summary of Factor Models**\n",
    "| Model | Factors Included |\n",
    "|--------|----------------|\n",
    "| **CAPM** | Market risk ($$ R_m - R_f $$) |\n",
    "| **Fama-French 3-Factor** | Market, SMB (Size), HML (Value) |\n",
    "| **Fama-French 5-Factor** | Market, SMB, HML, RMW (Profitability), CMA (Investment) |\n",
    "| **Fama-French 6-Factor** | Market, SMB, HML, RMW, CMA, UMD (Momentum) |\n",
    "\n",
    "---\n",
    "\n",
    "\n"
   ]
  },
  {
   "cell_type": "markdown",
   "metadata": {},
   "source": [
    "## **Justification for Asset Selection in Fama-French Factor Model**\n",
    "\n",
    "| **Factor**          | **Description**                          | **Ticker**  | **Justification** |\n",
    "|---------------------|--------------------------------------|------------|------------------|\n",
    "| **Market (`Mkt-RF`)**  | Broad market return vs. risk-free rate  | `^GSPC`    | S&P 500 represents overall market |\n",
    "| **Risk-Free Rate (`RF`)** | Short-term risk-free asset  | `^IRX`     | 13-week T-bill as a proxy for risk-free rate |\n",
    "| **Size (`SMB`)**    | Small-cap vs. large-cap stocks  | `IWM`      | Russell 2000 ETF captures small-cap returns |\n",
    "| **Value (`HML`)**   | Value stocks vs. growth stocks  | `IVE`, `IVW`  | `IVE` (Value ETF) vs. `IVW` (Growth ETF) to capture value premium |\n",
    "| **Profitability (`RMW`)** | High vs. low-profitability firms  | `SPGP`, `SPYD`  | `SPGP` (High-profitability), `SPYD` (Low-profitability) |\n",
    "| **Investment (`CMA`)** | Conservative vs. aggressive investors  | `USMV`, `MTUM`  | `USMV` (Low-investment), `MTUM` (High-investment) |\n"
   ]
  },
  {
   "cell_type": "code",
   "execution_count": 2,
   "metadata": {},
   "outputs": [
    {
     "name": "stderr",
     "output_type": "stream",
     "text": [
      "/Users/yb/anaconda3/lib/python3.10/site-packages/pandas/core/arrays/masked.py:60: UserWarning: Pandas requires version '1.3.6' or newer of 'bottleneck' (version '1.3.5' currently installed).\n",
      "  from pandas.core import (\n"
     ]
    }
   ],
   "source": [
    "import fama_models as fm\n"
   ]
  },
  {
   "cell_type": "code",
   "execution_count": 4,
   "metadata": {},
   "outputs": [
    {
     "name": "stderr",
     "output_type": "stream",
     "text": [
      "[*********************100%***********************]  1 of 1 completed\n",
      "[*********************100%***********************]  1 of 1 completed\n",
      "[*********************100%***********************]  1 of 1 completed\n",
      "[*********************100%***********************]  1 of 1 completed\n",
      "[*********************100%***********************]  1 of 1 completed\n",
      "[*********************100%***********************]  1 of 1 completed\n",
      "[*********************100%***********************]  1 of 1 completed\n",
      "[*********************100%***********************]  1 of 1 completed\n",
      "[*********************100%***********************]  1 of 1 completed\n",
      "[*********************100%***********************]  1 of 1 completed"
     ]
    },
    {
     "name": "stdout",
     "output_type": "stream",
     "text": [
      "Regression results for NVDA using 6-factor model:\n",
      "                            OLS Regression Results                            \n",
      "==============================================================================\n",
      "Dep. Variable:                      y   R-squared:                       0.774\n",
      "Model:                            OLS   Adj. R-squared:                  0.773\n",
      "Method:                 Least Squares   F-statistic:                     604.6\n",
      "Date:                Mon, 17 Mar 2025   Prob (F-statistic):               0.00\n",
      "Time:                        22:17:26   Log-Likelihood:                 3150.6\n",
      "No. Observations:                1245   AIC:                            -6285.\n",
      "Df Residuals:                    1237   BIC:                            -6244.\n",
      "Df Model:                           7                                         \n",
      "Covariance Type:            nonrobust                                         \n",
      "==============================================================================\n",
      "                 coef    std err          t      P>|t|      [0.025      0.975]\n",
      "------------------------------------------------------------------------------\n",
      "const          0.0010      0.001      1.279      0.201      -0.001       0.003\n",
      "Mkt-RF         1.3404      0.045     29.818      0.000       1.252       1.429\n",
      "SMB            0.0404      0.070      0.577      0.564      -0.097       0.178\n",
      "HML           -1.2124      0.102    -11.858      0.000      -1.413      -1.012\n",
      "RF             0.3750      0.051      7.390      0.000       0.275       0.475\n",
      "RMW            0.2845      0.099      2.865      0.004       0.090       0.479\n",
      "CMA           -0.5227      0.081     -6.470      0.000      -0.681      -0.364\n",
      "UMD         2.157e-05    3.9e-05      0.553      0.580    -5.5e-05    9.81e-05\n",
      "==============================================================================\n",
      "Omnibus:                      546.641   Durbin-Watson:                   2.029\n",
      "Prob(Omnibus):                  0.000   Jarque-Bera (JB):             9935.882\n",
      "Skew:                           1.566   Prob(JB):                         0.00\n",
      "Kurtosis:                      16.481   Cond. No.                     3.33e+03\n",
      "==============================================================================\n",
      "\n",
      "Notes:\n",
      "[1] Standard Errors assume that the covariance matrix of the errors is correctly specified.\n",
      "[2] The condition number is large, 3.33e+03. This might indicate that there are\n",
      "strong multicollinearity or other numerical problems.\n"
     ]
    },
    {
     "name": "stderr",
     "output_type": "stream",
     "text": [
      "\n"
     ]
    },
    {
     "data": {
      "text/plain": [
       "<statsmodels.regression.linear_model.RegressionResultsWrapper at 0x163b7f100>"
      ]
     },
     "execution_count": 4,
     "metadata": {},
     "output_type": "execute_result"
    }
   ],
   "source": [
    "ticker = \"NVDA\"  # Change to the stock ticker you want to test (e.g., \"GOOGL\", \"TSLA\")\n",
    "start = \"2020-01-01\"  # Change the start date\n",
    "end = \"2025-01-01\"  # Change the end date\n",
    "model_type = \"3-factor\"  # Choose \"3-factor\", \"5-factor\", or \"6-factor\" Fama model\n",
    "fm.run_fama_french_regression(ticker, start, end, model_type=\"6-factor\")"
   ]
  },
  {
   "cell_type": "markdown",
   "metadata": {},
   "source": [
    "## How to interpret OLS results:\n",
    "\n",
    "1. R-squared:\n",
    "    * Explains how much of the stock’s excess return is captured by the model.\n",
    "    * Higher R² (closer to 1) → The model does a better job of explaining returns. (>0.7)\n",
    "\n",
    "### Coeff below needs to have P-value < 0.05 to be statistically significant\n",
    "2. Mkt-RF Coeff (Beta):\n",
    "    * Measures how much the stock moves in relation to the market (S&P 500).\n",
    "    * High Beta (>1) → The stock is more volatile than the market.\n",
    "3. Size Factor Coeff (SMB - Small Minus Big):\n",
    "    * Positive SMB → The stock behaves like a small-cap stock.\n",
    "        * Above 0.2 → More exposure to small-cap stocks.\n",
    "        * Between -0.2 and 0.2 → Neutral (doesn’t behave like either).\n",
    "        * Below -0.2 → Large-cap characteristics.\n",
    "4. Value Factor (HML - High Minus Low)\n",
    "    * Positive HML → The stock behaves like a value stock.\n",
    "        * Above 0.3 → More exposure to value stocks.\n",
    "        * Between -0.3 and 0.3 → Neutral.\n",
    "        * Below -0.3 → More exposure to growth stocks.\n",
    "\n",
    "5. Profitability Factor (RMW - Robust Minus Weak)\n",
    "    * Positive RMW → The company is highly profitable.\n",
    "    * Negative RMW → The company is low profitability.\n",
    "        * Above 0.2 → High-profitability companies.\n",
    "        * Between -0.2 and 0.2 → Neutral.\n",
    "        * Below -0.2 → Weak profitability.\n",
    "\n",
    "6. Investment Factor (CMA - Conservative Minus Aggressive)\n",
    "    * Positive CMA → The company follows a conservative investment strategy.\n",
    "        * Above 0.2 → Conservative investment strategy (steady growth).\n",
    "        * Between -0.2 and 0.2 → Neutral.\n",
    "        * Below -0.2 → Aggressive investment strategy.\n",
    "\n",
    "7. Momentum Factor (UMD - Up Minus Down)\n",
    "    * Positive UMD → The stock follows momentum (winners keep winning).\n",
    "    * Negative UMD → The stock has mean-reverting behavior.\n",
    "        * Above 0.2 → Strong momentum effect.\n",
    "        * Between -0.2 and 0.2 → No strong momentum.\n",
    "        * Below -0.2 → Tends to mean revert.\n",
    "\n",
    "8. Constant (const): Alpha\n",
    " \n",
    "    * Measures abnormal returns that cannot be explained by the factors.\n",
    "    * If significant (p < 0.05) → The stock has unexplained alpha."
   ]
  }
 ],
 "metadata": {
  "kernelspec": {
   "display_name": "base",
   "language": "python",
   "name": "python3"
  },
  "language_info": {
   "codemirror_mode": {
    "name": "ipython",
    "version": 3
   },
   "file_extension": ".py",
   "mimetype": "text/x-python",
   "name": "python",
   "nbconvert_exporter": "python",
   "pygments_lexer": "ipython3",
   "version": "3.10.9"
  }
 },
 "nbformat": 4,
 "nbformat_minor": 2
}
